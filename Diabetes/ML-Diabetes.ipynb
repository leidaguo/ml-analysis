{
 "cells": [
  {
   "cell_type": "code",
   "execution_count": 318,
   "metadata": {},
   "outputs": [],
   "source": [
    "import os\n",
    "import urllib\n",
    "\n",
    "import numpy as np\n",
    "import pandas as pd\n",
    "import matplotlib.pyplot as plt\n",
    "import matplotlib.ticker as ticker\n",
    "%matplotlib inline\n",
    "import seaborn as sns\n",
    "\n",
    "from sklearn.model_selection import train_test_split\n",
    "from sklearn.metrics import accuracy_score\n",
    "from sklearn.preprocessing import MinMaxScaler\n",
    "from sklearn.preprocessing import StandardScaler\n",
    "\n",
    "from sklearn.neighbors import KNeighborsClassifier\n",
    "from sklearn.linear_model import LogisticRegression\n",
    "from sklearn.tree import DecisionTreeClassifier\n",
    "from sklearn.ensemble import RandomForestClassifier\n",
    "from sklearn.ensemble import GradientBoostingClassifier\n",
    "from sklearn.svm import SVC\n",
    "from sklearn.neural_network import MLPClassifier"
   ]
  },
  {
   "cell_type": "code",
   "execution_count": 22,
   "metadata": {},
   "outputs": [],
   "source": [
    "url = \"https://raw.githubusercontent.com/susanli2016/Machine-Learning-with-Python/master/diabetes.csv\"\n",
    "data_dir = \"data/diabetes/\"\n",
    "filename = \"diabetes.csv\""
   ]
  },
  {
   "cell_type": "code",
   "execution_count": 23,
   "metadata": {},
   "outputs": [],
   "source": [
    "def downloadDataset(url, directory, filename):\n",
    "    if not os.path.exists(directory):\n",
    "        os.makedirs(directory)\n",
    "    urllib.urlretrieve(url, directory + filename)"
   ]
  },
  {
   "cell_type": "code",
   "execution_count": 24,
   "metadata": {},
   "outputs": [],
   "source": [
    "downloadDataset(url, data_dir, filename)"
   ]
  },
  {
   "cell_type": "code",
   "execution_count": 26,
   "metadata": {},
   "outputs": [
    {
     "name": "stdout",
     "output_type": "stream",
     "text": [
      "Index([u'Pregnancies', u'Glucose', u'BloodPressure', u'SkinThickness',\n",
      "       u'Insulin', u'BMI', u'DiabetesPedigreeFunction', u'Age', u'Outcome'],\n",
      "      dtype='object')\n"
     ]
    }
   ],
   "source": [
    "diabetes = pd.read_csv(data_dir + filename)\n",
    "print(diabetes.columns)"
   ]
  },
  {
   "cell_type": "code",
   "execution_count": 27,
   "metadata": {},
   "outputs": [
    {
     "data": {
      "text/html": [
       "<div>\n",
       "<style scoped>\n",
       "    .dataframe tbody tr th:only-of-type {\n",
       "        vertical-align: middle;\n",
       "    }\n",
       "\n",
       "    .dataframe tbody tr th {\n",
       "        vertical-align: top;\n",
       "    }\n",
       "\n",
       "    .dataframe thead th {\n",
       "        text-align: right;\n",
       "    }\n",
       "</style>\n",
       "<table border=\"1\" class=\"dataframe\">\n",
       "  <thead>\n",
       "    <tr style=\"text-align: right;\">\n",
       "      <th></th>\n",
       "      <th>Pregnancies</th>\n",
       "      <th>Glucose</th>\n",
       "      <th>BloodPressure</th>\n",
       "      <th>SkinThickness</th>\n",
       "      <th>Insulin</th>\n",
       "      <th>BMI</th>\n",
       "      <th>DiabetesPedigreeFunction</th>\n",
       "      <th>Age</th>\n",
       "      <th>Outcome</th>\n",
       "    </tr>\n",
       "  </thead>\n",
       "  <tbody>\n",
       "    <tr>\n",
       "      <th>0</th>\n",
       "      <td>6</td>\n",
       "      <td>148</td>\n",
       "      <td>72</td>\n",
       "      <td>35</td>\n",
       "      <td>0</td>\n",
       "      <td>33.6</td>\n",
       "      <td>0.627</td>\n",
       "      <td>50</td>\n",
       "      <td>1</td>\n",
       "    </tr>\n",
       "    <tr>\n",
       "      <th>1</th>\n",
       "      <td>1</td>\n",
       "      <td>85</td>\n",
       "      <td>66</td>\n",
       "      <td>29</td>\n",
       "      <td>0</td>\n",
       "      <td>26.6</td>\n",
       "      <td>0.351</td>\n",
       "      <td>31</td>\n",
       "      <td>0</td>\n",
       "    </tr>\n",
       "    <tr>\n",
       "      <th>2</th>\n",
       "      <td>8</td>\n",
       "      <td>183</td>\n",
       "      <td>64</td>\n",
       "      <td>0</td>\n",
       "      <td>0</td>\n",
       "      <td>23.3</td>\n",
       "      <td>0.672</td>\n",
       "      <td>32</td>\n",
       "      <td>1</td>\n",
       "    </tr>\n",
       "    <tr>\n",
       "      <th>3</th>\n",
       "      <td>1</td>\n",
       "      <td>89</td>\n",
       "      <td>66</td>\n",
       "      <td>23</td>\n",
       "      <td>94</td>\n",
       "      <td>28.1</td>\n",
       "      <td>0.167</td>\n",
       "      <td>21</td>\n",
       "      <td>0</td>\n",
       "    </tr>\n",
       "    <tr>\n",
       "      <th>4</th>\n",
       "      <td>0</td>\n",
       "      <td>137</td>\n",
       "      <td>40</td>\n",
       "      <td>35</td>\n",
       "      <td>168</td>\n",
       "      <td>43.1</td>\n",
       "      <td>2.288</td>\n",
       "      <td>33</td>\n",
       "      <td>1</td>\n",
       "    </tr>\n",
       "  </tbody>\n",
       "</table>\n",
       "</div>"
      ],
      "text/plain": [
       "   Pregnancies  Glucose  BloodPressure  SkinThickness  Insulin   BMI  \\\n",
       "0            6      148             72             35        0  33.6   \n",
       "1            1       85             66             29        0  26.6   \n",
       "2            8      183             64              0        0  23.3   \n",
       "3            1       89             66             23       94  28.1   \n",
       "4            0      137             40             35      168  43.1   \n",
       "\n",
       "   DiabetesPedigreeFunction  Age  Outcome  \n",
       "0                     0.627   50        1  \n",
       "1                     0.351   31        0  \n",
       "2                     0.672   32        1  \n",
       "3                     0.167   21        0  \n",
       "4                     2.288   33        1  "
      ]
     },
     "execution_count": 27,
     "metadata": {},
     "output_type": "execute_result"
    }
   ],
   "source": [
    "diabetes.head()"
   ]
  },
  {
   "cell_type": "code",
   "execution_count": 28,
   "metadata": {},
   "outputs": [
    {
     "name": "stdout",
     "output_type": "stream",
     "text": [
      "Dimension Of Diabetes Dataset - (768, 9)\n"
     ]
    }
   ],
   "source": [
    "print(\"Dimension Of Diabetes Dataset - {0}\".format(diabetes.shape))"
   ]
  },
  {
   "cell_type": "code",
   "execution_count": 31,
   "metadata": {},
   "outputs": [
    {
     "name": "stdout",
     "output_type": "stream",
     "text": [
      "Number Of Diabetes Patients and Non Diabetes Patient\n",
      "Outcome\n",
      "0    500\n",
      "1    268\n",
      "dtype: int64\n"
     ]
    }
   ],
   "source": [
    "print(\"Number Of Diabetes Patients and Non Diabetes Patient\")\n",
    "print(diabetes.groupby(\"Outcome\").size())"
   ]
  },
  {
   "cell_type": "code",
   "execution_count": 34,
   "metadata": {},
   "outputs": [
    {
     "data": {
      "text/plain": [
       "<matplotlib.axes._subplots.AxesSubplot at 0x7fbf03714290>"
      ]
     },
     "execution_count": 34,
     "metadata": {},
     "output_type": "execute_result"
    },
    {
     "data": {
      "image/png": "[encoded data removed]",
      "text/plain": [
       "<matplotlib.figure.Figure at 0x7fbf3c6812d0>"
      ]
     },
     "metadata": {},
     "output_type": "display_data"
    }
   ],
   "source": [
    "sns.countplot(diabetes[\"Outcome\"], label = \"Count\")"
   ]
  },
  {
   "cell_type": "code",
   "execution_count": 35,
   "metadata": {},
   "outputs": [
    {
     "name": "stdout",
     "output_type": "stream",
     "text": [
      "<class 'pandas.core.frame.DataFrame'>\n",
      "RangeIndex: 768 entries, 0 to 767\n",
      "Data columns (total 9 columns):\n",
      "Pregnancies                 768 non-null int64\n",
      "Glucose                     768 non-null int64\n",
      "BloodPressure               768 non-null int64\n",
      "SkinThickness               768 non-null int64\n",
      "Insulin                     768 non-null int64\n",
      "BMI                         768 non-null float64\n",
      "DiabetesPedigreeFunction    768 non-null float64\n",
      "Age                         768 non-null int64\n",
      "Outcome                     768 non-null int64\n",
      "dtypes: float64(2), int64(7)\n",
      "memory usage: 54.1 KB\n"
     ]
    }
   ],
   "source": [
    "diabetes.info()"
   ]
  },
  {
   "cell_type": "code",
   "execution_count": 92,
   "metadata": {},
   "outputs": [],
   "source": [
    "x_train , x_test, y_train, y_test = train_test_split(\n",
    "    diabetes.loc[:, diabetes.columns != \"Outcome\"], \n",
    "    diabetes[\"Outcome\"],\n",
    "    stratify = diabetes[\"Outcome\"],\n",
    "    random_state = 66\n",
    ")"
   ]
  },
  {
   "cell_type": "code",
   "execution_count": 93,
   "metadata": {},
   "outputs": [
    {
     "name": "stdout",
     "output_type": "stream",
     "text": [
      "[1, 2, 3, 4, 5, 6, 7, 8, 9, 10]\n"
     ]
    }
   ],
   "source": [
    "training_accuracy = []\n",
    "test_accuracy = []\n",
    "neighbors_setting = range(1, 11)\n",
    "print(neighbors_setting)"
   ]
  },
  {
   "cell_type": "code",
   "execution_count": 94,
   "metadata": {},
   "outputs": [],
   "source": [
    "for neighbor in neighbors_setting:\n",
    "    knn = KNeighborsClassifier(n_neighbors = neighbor)\n",
    "    knn.fit(x_train, y_train)\n",
    "    \n",
    "    train_acc = knn.score(x_train, y_train)\n",
    "    training_accuracy.append(train_acc)\n",
    "    \n",
    "    test_acc = knn.score(x_test, y_test)\n",
    "    test_accuracy.append(test_acc)"
   ]
  },
  {
   "cell_type": "code",
   "execution_count": 95,
   "metadata": {},
   "outputs": [
    {
     "data": {
      "text/plain": [
       "<matplotlib.legend.Legend at 0x7fbeff269bd0>"
      ]
     },
     "execution_count": 95,
     "metadata": {},
     "output_type": "execute_result"
    },
    {
     "data": {
      "image/png": "[encoded data removed]",
      "text/plain": [
       "<matplotlib.figure.Figure at 0x7fbeff340950>"
      ]
     },
     "metadata": {},
     "output_type": "display_data"
    }
   ],
   "source": [
    "# len(test_accuracy)\n",
    "plt.plot(neighbors_setting, training_accuracy, label = \"Training Accuracy\")\n",
    "plt.plot(neighbors_setting, test_accuracy, label = \"Test Accuracy\")\n",
    "plt.xlabel(\"N Neighbor\")\n",
    "plt.ylabel(\"Accuracy\")\n",
    "plt.legend()"
   ]
  },
  {
   "cell_type": "code",
   "execution_count": 86,
   "metadata": {},
   "outputs": [
    {
     "name": "stdout",
     "output_type": "stream",
     "text": [
      "Accuracy On Training Data : 0.791666666667\n",
      "Accuracy On Test Data : 0.776041666667\n"
     ]
    }
   ],
   "source": [
    "knn = KNeighborsClassifier(n_neighbors = 9)\n",
    "knn.fit(x_train, y_train)\n",
    "print(\"Accuracy On Training Data : {0}\".format(knn.score(x_train, y_train)))\n",
    "print(\"Accuracy On Test Data : {0}\".format(knn.score(x_test, y_test)))"
   ]
  },
  {
   "cell_type": "code",
   "execution_count": 184,
   "metadata": {},
   "outputs": [],
   "source": [
    "training_accuracy = []\n",
    "test_accuracy = []\n",
    "\n",
    "c_setting = np.arange(0.1, 5.0, 0.1)\n",
    "\n",
    "reg_coff = np.array([])\n",
    "c_reg = np.array([])"
   ]
  },
  {
   "cell_type": "code",
   "execution_count": 185,
   "metadata": {},
   "outputs": [
    {
     "name": "stdout",
     "output_type": "stream",
     "text": [
      "(392,)\n",
      "(392,)\n"
     ]
    }
   ],
   "source": [
    "for c_val in c_setting:\n",
    "    log_reg = LogisticRegression(C = c_val).fit(x_train, y_train)\n",
    "    \n",
    "    training_accuracy.append(log_reg.score(x_train, y_train))\n",
    "    test_accuracy.append(log_reg.score(x_test, y_test))\n",
    "    \n",
    "    reg_coff = np.append(reg_coff, log_reg.coef_.T)\n",
    "    c_reg = np.append(c_reg, [[c_val] * len(log_reg.coef_.T)])\n",
    "    \n",
    "print(reg_coff.shape)\n",
    "print(c_reg.shape)"
   ]
  },
  {
   "cell_type": "code",
   "execution_count": 264,
   "metadata": {},
   "outputs": [
    {
     "data": {
      "image/png": "[encoded data removed]",
      "text/plain": [
       "<matplotlib.figure.Figure at 0x7fbefcdc15d0>"
      ]
     },
     "metadata": {},
     "output_type": "display_data"
    }
   ],
   "source": [
    "plt.figure(figsize=(12, 6))\n",
    "ax = plt.axes()\n",
    "ax.xaxis.set_major_locator(ticker.MultipleLocator(15))\n",
    "ax.xaxis.set_minor_locator(ticker.MultipleLocator(11))\n",
    "\n",
    "plt.plot(c_reg, reg_coff, \"ro\")\n",
    "plt.ylim(-0.5, 0.5)\n",
    "plt.xticks(np.arange(min(c_reg), max(c_reg) + 1, 1.0))\n",
    "plt.show()"
   ]
  },
  {
   "cell_type": "code",
   "execution_count": 260,
   "metadata": {},
   "outputs": [
    {
     "data": {
      "text/plain": [
       "<matplotlib.legend.Legend at 0x7fbefc0b57d0>"
      ]
     },
     "execution_count": 260,
     "metadata": {},
     "output_type": "execute_result"
    },
    {
     "data": {
      "image/png": "[encoded data removed]",
      "text/plain": [
       "<matplotlib.figure.Figure at 0x7fbefcca0690>"
      ]
     },
     "metadata": {},
     "output_type": "display_data"
    }
   ],
   "source": [
    "plt.figure(figsize=(8,6))\n",
    "plt.plot(c_setting, training_accuracy, label = \"Training Accuracy\")\n",
    "plt.plot(c_setting, test_accuracy, label = \"Test Accuracy\")\n",
    "plt.xlabel(\"C\")\n",
    "plt.ylabel(\"Accuracy\")\n",
    "plt.legend()"
   ]
  },
  {
   "cell_type": "code",
   "execution_count": 200,
   "metadata": {},
   "outputs": [
    {
     "name": "stdout",
     "output_type": "stream",
     "text": [
      "Accuracy On Training Data : 0.685763888889\n",
      "Accuracy On Test Data : 0.713541666667\n",
      "[[ 0.0621956 ]\n",
      " [ 0.0114425 ]\n",
      " [-0.02532259]\n",
      " [-0.00252467]\n",
      " [ 0.00115815]\n",
      " [ 0.00085406]\n",
      " [ 0.00329598]\n",
      " [-0.01160978]]\n",
      "Accuracy On Training Data : 0.78125\n",
      "Accuracy On Test Data : 0.770833333333\n",
      "[[  1.08036613e-01]\n",
      " [  2.74327800e-02]\n",
      " [ -1.49806403e-02]\n",
      " [ -1.36737211e-03]\n",
      " [ -3.50136849e-04]\n",
      " [  5.91861497e-02]\n",
      " [  6.17545218e-01]\n",
      " [ -9.69377626e-04]]\n",
      "Accuracy On Training Data : 0.784722222222\n",
      "Accuracy On Test Data : 0.765625\n",
      "[[ 0.10821676]\n",
      " [ 0.03580881]\n",
      " [-0.01131212]\n",
      " [-0.00136427]\n",
      " [-0.00102962]\n",
      " [ 0.09311513]\n",
      " [ 0.91140371]\n",
      " [ 0.00743867]]\n"
     ]
    }
   ],
   "source": [
    "log_reg_C_0001 = LogisticRegression(C = 0.001).fit(x_train, y_train)\n",
    "print(\"Accuracy On Training Data : {0}\".format(log_reg_C_0001.score(x_train, y_train)))\n",
    "print(\"Accuracy On Test Data : {0}\".format(log_reg_C_0001.score(x_test, y_test)))\n",
    "print(log_reg_C_0001.coef_.T)\n",
    "\n",
    "log_reg_C_1 = LogisticRegression(C = 1).fit(x_train, y_train)\n",
    "print(\"Accuracy On Training Data : {0}\".format(log_reg_C_1.score(x_train, y_train)))\n",
    "print(\"Accuracy On Test Data : {0}\".format(log_reg_C_1.score(x_test, y_test)))\n",
    "print(log_reg_C_1.coef_.T)\n",
    "\n",
    "log_reg_C_100 = LogisticRegression(C = 100).fit(x_train, y_train)\n",
    "print(\"Accuracy On Training Data : {0}\".format(log_reg_C_100.score(x_train, y_train)))\n",
    "print(\"Accuracy On Test Data : {0}\".format(log_reg_C_100.score(x_test, y_test)))\n",
    "print(log_reg_C_100.coef_.T)"
   ]
  },
  {
   "cell_type": "code",
   "execution_count": 201,
   "metadata": {},
   "outputs": [
    {
     "data": {
      "text/plain": [
       "['Pregnancies',\n",
       " 'Glucose',\n",
       " 'BloodPressure',\n",
       " 'SkinThickness',\n",
       " 'Insulin',\n",
       " 'BMI',\n",
       " 'DiabetesPedigreeFunction',\n",
       " 'Age',\n",
       " 'Outcome']"
      ]
     },
     "execution_count": 201,
     "metadata": {},
     "output_type": "execute_result"
    }
   ],
   "source": [
    "diabetes_features = [x for i, x in enumerate(diabetes.columns)]\n",
    "diabetes_features"
   ]
  },
  {
   "cell_type": "code",
   "execution_count": 259,
   "metadata": {},
   "outputs": [
    {
     "data": {
      "text/plain": [
       "<matplotlib.legend.Legend at 0x7fbefcb73510>"
      ]
     },
     "execution_count": 259,
     "metadata": {},
     "output_type": "execute_result"
    },
    {
     "data": {
      "image/png": "[encoded data removed]",
      "text/plain": [
       "<matplotlib.figure.Figure at 0x7fbefcca0390>"
      ]
     },
     "metadata": {},
     "output_type": "display_data"
    }
   ],
   "source": [
    "plt.figure(figsize=(8,6))\n",
    "plt.plot(log_reg_C_0001.coef_.T, \"o\", label = \"C = 0.001\")\n",
    "plt.plot(log_reg_C_1.coef_.T, \"^\", label = \"C = 1\")\n",
    "plt.plot(log_reg_C_100.coef_.T, \"v\", label = \"C = 100\")\n",
    "plt.ylim(-5, 5)\n",
    "plt.xticks(range(diabetes.shape[1]), diabetes_features, rotation = 90)\n",
    "plt.legend()"
   ]
  },
  {
   "cell_type": "code",
   "execution_count": 237,
   "metadata": {},
   "outputs": [],
   "source": [
    "def plot_feature_importances_diabetes(model):\n",
    "    plt.figure(figsize=(8,6))\n",
    "    n_features = 8\n",
    "    plt.barh(range(n_features), model.feature_importances_, align='center')\n",
    "    plt.yticks(np.arange(n_features), diabetes_features)\n",
    "    plt.xlabel(\"Feature importance\")\n",
    "    plt.ylabel(\"Feature\")\n",
    "    plt.ylim(-1, n_features)"
   ]
  },
  {
   "cell_type": "code",
   "execution_count": 204,
   "metadata": {},
   "outputs": [
    {
     "name": "stdout",
     "output_type": "stream",
     "text": [
      "Accuracy On Training Set : 1.0\n",
      "Accuracy On Data Set : 0.713541666667\n"
     ]
    }
   ],
   "source": [
    "tree = DecisionTreeClassifier(random_state = 0)\n",
    "tree.fit(x_train, y_train)\n",
    "print(\"Accuracy On Training Set : {0}\".format(tree.score(x_train, y_train)))\n",
    "print(\"Accuracy On Data Set : {0}\".format(tree.score(x_test, y_test)))"
   ]
  },
  {
   "cell_type": "code",
   "execution_count": 207,
   "metadata": {},
   "outputs": [
    {
     "name": "stdout",
     "output_type": "stream",
     "text": [
      "Accuracy On Training Set : 0.772569444444\n",
      "Accuracy On Data Set : 0.739583333333\n"
     ]
    }
   ],
   "source": [
    "tree = DecisionTreeClassifier(max_depth = 3, random_state = 0)\n",
    "tree.fit(x_train, y_train)\n",
    "print(\"Accuracy On Training Set : {0}\".format(tree.score(x_train, y_train)))\n",
    "print(\"Accuracy On Data Set : {0}\".format(tree.score(x_test, y_test)))"
   ]
  },
  {
   "cell_type": "code",
   "execution_count": 222,
   "metadata": {},
   "outputs": [
    {
     "name": "stdout",
     "output_type": "stream",
     "text": [
      "Tree Features : [ 0.04554275  0.6830362   0.          0.          0.          0.27142106\n",
      "  0.          0.        ]\n"
     ]
    }
   ],
   "source": [
    "print(\"Tree Features : {0}\".format(tree.feature_importances_))"
   ]
  },
  {
   "cell_type": "code",
   "execution_count": 258,
   "metadata": {},
   "outputs": [
    {
     "data": {
      "image/png": "[encoded data removed]",
      "text/plain": [
       "<matplotlib.figure.Figure at 0x7fbefd1aecd0>"
      ]
     },
     "metadata": {},
     "output_type": "display_data"
    }
   ],
   "source": [
    "plt.figure(figsize=(8,6))\n",
    "plt.barh(range(len(tree.feature_importances_)), tree.feature_importances_, align = \"center\")\n",
    "plt.yticks(range(len(tree.feature_importances_)), diabetes_features)\n",
    "plt.xlabel(\"Feature Importance\")\n",
    "plt.ylabel(\"Features\")\n",
    "plt.show()"
   ]
  },
  {
   "cell_type": "code",
   "execution_count": 249,
   "metadata": {},
   "outputs": [
    {
     "name": "stdout",
     "output_type": "stream",
     "text": [
      "Accuracy On Training Set : 1.0\n",
      "Accuracy On Data Set : 0.786458333333\n"
     ]
    }
   ],
   "source": [
    "rf = RandomForestClassifier(n_estimators = 100, random_state = 0)\n",
    "rf.fit(x_train, y_train)\n",
    "print(\"Accuracy On Training Set : {0}\".format(rf.score(x_train, y_train)))\n",
    "print(\"Accuracy On Data Set : {0}\".format(rf.score(x_test, y_test)))"
   ]
  },
  {
   "cell_type": "code",
   "execution_count": 250,
   "metadata": {},
   "outputs": [
    {
     "name": "stdout",
     "output_type": "stream",
     "text": [
      "Accuracy On Training Set : 0.763888888889\n",
      "Accuracy On Data Set : 0.75\n"
     ]
    }
   ],
   "source": [
    "rf = RandomForestClassifier(max_depth = 2, n_estimators = 100, random_state = 0)\n",
    "rf.fit(x_train, y_train)\n",
    "print(\"Accuracy On Training Set : {0}\".format(rf.score(x_train, y_train)))\n",
    "print(\"Accuracy On Data Set : {0}\".format(rf.score(x_test, y_test)))"
   ]
  },
  {
   "cell_type": "code",
   "execution_count": 251,
   "metadata": {},
   "outputs": [
    {
     "name": "stdout",
     "output_type": "stream",
     "text": [
      "Random Forest Important Features : [ 0.0595868   0.30786128  0.04138421  0.04165502  0.10596851  0.20186898\n",
      "  0.09518828  0.14648691]\n"
     ]
    }
   ],
   "source": [
    "print(\"Random Forest Important Features : {0}\".format(rf.feature_importances_))"
   ]
  },
  {
   "cell_type": "code",
   "execution_count": 257,
   "metadata": {},
   "outputs": [
    {
     "data": {
      "image/png": "[encoded data removed]",
      "text/plain": [
       "<matplotlib.figure.Figure at 0x7fbefb7a5750>"
      ]
     },
     "metadata": {},
     "output_type": "display_data"
    }
   ],
   "source": [
    "plt.figure(figsize=(8,6))\n",
    "plt.barh(range(8), rf.feature_importances_, align = \"center\")\n",
    "plt.yticks(range(len(rf.feature_importances_)), diabetes_features)\n",
    "plt.xlabel(\"Features Importance\")\n",
    "plt.ylabel(\"Features\")\n",
    "# plt.ylim(-1, len(diabetes_features))\n",
    "plt.show()\n",
    "# plot_feature_importances_diabetes(rf)"
   ]
  },
  {
   "cell_type": "code",
   "execution_count": 285,
   "metadata": {},
   "outputs": [
    {
     "name": "stdout",
     "output_type": "stream",
     "text": [
      "Accuracy On Training Set : 0.916666666667\n",
      "Accuracy On Data Set : 0.791666666667\n"
     ]
    }
   ],
   "source": [
    "gb = GradientBoostingClassifier(random_state = 0)\n",
    "gb.fit(x_train, y_train)\n",
    "print(\"Accuracy On Training Set : {0}\".format(gb.score(x_train, y_train)))\n",
    "print(\"Accuracy On Data Set : {0}\".format(gb.score(x_test, y_test)))"
   ]
  },
  {
   "cell_type": "code",
   "execution_count": 286,
   "metadata": {},
   "outputs": [
    {
     "data": {
      "text/plain": [
       "Text(0,0.5,u'Features')"
      ]
     },
     "execution_count": 286,
     "metadata": {},
     "output_type": "execute_result"
    },
    {
     "data": {
      "image/png": "[encoded data removed]",
      "text/plain": [
       "<matplotlib.figure.Figure at 0x7fbefce1cbd0>"
      ]
     },
     "metadata": {},
     "output_type": "display_data"
    }
   ],
   "source": [
    "plt.figure(figsize=(8,6))\n",
    "plt.barh(range(len(gb.feature_importances_)), gb.feature_importances_)\n",
    "plt.yticks(range(len(gb.feature_importances_)), diabetes_features)\n",
    "plt.xlabel(\"Feature Importance\")\n",
    "plt.ylabel(\"Features\")"
   ]
  },
  {
   "cell_type": "code",
   "execution_count": 287,
   "metadata": {},
   "outputs": [
    {
     "name": "stdout",
     "output_type": "stream",
     "text": [
      "Accuracy On Training Set : 0.744791666667\n",
      "Accuracy On Data Set : 0.734375\n"
     ]
    }
   ],
   "source": [
    "gb = GradientBoostingClassifier(max_depth = 1, random_state = 0, learning_rate = 0.01)\n",
    "gb.fit(x_train, y_train)\n",
    "print(\"Accuracy On Training Set : {0}\".format(gb.score(x_train, y_train)))\n",
    "print(\"Accuracy On Data Set : {0}\".format(gb.score(x_test, y_test)))"
   ]
  },
  {
   "cell_type": "code",
   "execution_count": 288,
   "metadata": {},
   "outputs": [
    {
     "data": {
      "text/plain": [
       "Text(0,0.5,u'Features')"
      ]
     },
     "execution_count": 288,
     "metadata": {},
     "output_type": "execute_result"
    },
    {
     "data": {
      "image/png": "[encoded data removed]",
      "text/plain": [
       "<matplotlib.figure.Figure at 0x7fbefcba63d0>"
      ]
     },
     "metadata": {},
     "output_type": "display_data"
    }
   ],
   "source": [
    "plt.figure(figsize=(8,6))\n",
    "plt.barh(range(len(gb.feature_importances_)), gb.feature_importances_)\n",
    "plt.yticks(range(len(gb.feature_importances_)), diabetes_features)\n",
    "plt.yticks()\n",
    "plt.xlabel(\"Feature Importance\")\n",
    "plt.ylabel(\"Features\")"
   ]
  },
  {
   "cell_type": "code",
   "execution_count": 297,
   "metadata": {},
   "outputs": [
    {
     "name": "stdout",
     "output_type": "stream",
     "text": [
      "Accuracy On Training Set : 1.0\n",
      "Accuracy On Data Set : 0.651041666667\n"
     ]
    }
   ],
   "source": [
    "svc = SVC()\n",
    "svc.fit(x_train, y_train)\n",
    "print(\"Accuracy On Training Set : {0}\".format(svc.score(x_train, y_train)))\n",
    "print(\"Accuracy On Data Set : {0}\".format(svc.score(x_test, y_test)))"
   ]
  },
  {
   "cell_type": "code",
   "execution_count": 304,
   "metadata": {},
   "outputs": [],
   "source": [
    "scaler = MinMaxScaler()\n",
    "x_train_scaled = scaler.fit_transform(x_train)\n",
    "x_test_scaled = scaler.fit_transform(x_test)"
   ]
  },
  {
   "cell_type": "code",
   "execution_count": 305,
   "metadata": {},
   "outputs": [
    {
     "name": "stdout",
     "output_type": "stream",
     "text": [
      "Accuracy On Training Set : 0.769097222222\n",
      "Accuracy On Data Set : 0.770833333333\n"
     ]
    }
   ],
   "source": [
    "svc = SVC()\n",
    "svc.fit(x_train_scaled, y_train)\n",
    "print(\"Accuracy On Training Set : {0}\".format(svc.score(x_train_scaled, y_train)))\n",
    "print(\"Accuracy On Data Set : {0}\".format(svc.score(x_test_scaled, y_test)))"
   ]
  },
  {
   "cell_type": "code",
   "execution_count": 308,
   "metadata": {},
   "outputs": [
    {
     "name": "stdout",
     "output_type": "stream",
     "text": [
      "Accuracy On Training Set : 0.789930555556\n",
      "Accuracy On Data Set : 0.796875\n"
     ]
    }
   ],
   "source": [
    "svc = SVC(C = 1000)\n",
    "svc.fit(x_train_scaled, y_train)\n",
    "print(\"Accuracy On Training Set : {0}\".format(svc.score(x_train_scaled, y_train)))\n",
    "print(\"Accuracy On Data Set : {0}\".format(svc.score(x_test_scaled, y_test)))"
   ]
  },
  {
   "cell_type": "code",
   "execution_count": 315,
   "metadata": {},
   "outputs": [
    {
     "name": "stdout",
     "output_type": "stream",
     "text": [
      "Accuracy On Training Set : 0.710069444444\n",
      "Accuracy On Data Set : 0.671875\n"
     ]
    }
   ],
   "source": [
    "mlp = MLPClassifier(random_state = 42)\n",
    "mlp.fit(x_train, y_train)\n",
    "print(\"Accuracy On Training Set : {0}\".format(mlp.score(x_train, y_train)))\n",
    "print(\"Accuracy On Data Set : {0}\".format(mlp.score(x_test, y_test)))"
   ]
  },
  {
   "cell_type": "code",
   "execution_count": 319,
   "metadata": {},
   "outputs": [],
   "source": [
    "scaler = StandardScaler()\n",
    "x_train_scaled = scaler.fit_transform(x_train)\n",
    "x_test_scaled = scaler.fit_transform(x_test)"
   ]
  },
  {
   "cell_type": "code",
   "execution_count": 323,
   "metadata": {},
   "outputs": [
    {
     "name": "stdout",
     "output_type": "stream",
     "text": [
      "Accuracy On Training Set : 0.822916666667\n",
      "Accuracy On Data Set : 0.802083333333\n"
     ]
    }
   ],
   "source": [
    "mlp = MLPClassifier(random_state = 0)\n",
    "mlp.fit(x_train_scaled, y_train)\n",
    "print(\"Accuracy On Training Set : {0}\".format(mlp.score(x_train_scaled, y_train)))\n",
    "print(\"Accuracy On Data Set : {0}\".format(mlp.score(x_test_scaled, y_test)))"
   ]
  },
  {
   "cell_type": "code",
   "execution_count": 324,
   "metadata": {},
   "outputs": [
    {
     "name": "stdout",
     "output_type": "stream",
     "text": [
      "Accuracy On Training Set : 0.876736111111\n",
      "Accuracy On Data Set : 0.755208333333\n"
     ]
    }
   ],
   "source": [
    "mlp = MLPClassifier(max_iter = 1000, random_state = 0)\n",
    "mlp.fit(x_train_scaled, y_train)\n",
    "print(\"Accuracy On Training Set : {0}\".format(mlp.score(x_train_scaled, y_train)))\n",
    "print(\"Accuracy On Data Set : {0}\".format(mlp.score(x_test_scaled, y_test)))"
   ]
  },
  {
   "cell_type": "code",
   "execution_count": 326,
   "metadata": {},
   "outputs": [
    {
     "name": "stdout",
     "output_type": "stream",
     "text": [
      "Accuracy On Training Set : 0.795138888889\n",
      "Accuracy On Data Set : 0.791666666667\n"
     ]
    }
   ],
   "source": [
    "mlp = MLPClassifier(max_iter = 1000, alpha = 1 ,random_state = 0)\n",
    "mlp.fit(x_train_scaled, y_train)\n",
    "print(\"Accuracy On Training Set : {0}\".format(mlp.score(x_train_scaled, y_train)))\n",
    "print(\"Accuracy On Data Set : {0}\".format(mlp.score(x_test_scaled, y_test)))"
   ]
  },
  {
   "cell_type": "code",
   "execution_count": 343,
   "metadata": {},
   "outputs": [
    {
     "data": {
      "text/plain": [
       "<matplotlib.colorbar.Colorbar at 0x7fbefaf11bd0>"
      ]
     },
     "execution_count": 343,
     "metadata": {},
     "output_type": "execute_result"
    },
    {
     "data": {
      "image/png": "[encoded data removed]",
      "text/plain": [
       "<matplotlib.figure.Figure at 0x7fbefb08ad90>"
      ]
     },
     "metadata": {},
     "output_type": "display_data"
    }
   ],
   "source": [
    "plt.figure(figsize=(25, 5))\n",
    "plt.imshow(mlp.coefs_[0], interpolation='none', cmap='viridis')\n",
    "plt.yticks(range(8), diabetes_features)\n",
    "plt.xlabel(\"Columns in weight matrix\")\n",
    "plt.ylabel(\"Input feature\")\n",
    "plt.colorbar()"
   ]
  },
  {
   "cell_type": "code",
   "execution_count": 340,
   "metadata": {},
   "outputs": [
    {
     "data": {
      "text/plain": [
       "2"
      ]
     },
     "execution_count": 340,
     "metadata": {},
     "output_type": "execute_result"
    }
   ],
   "source": [
    "len(mlp.coefs_)"
   ]
  },
  {
   "cell_type": "code",
   "execution_count": 338,
   "metadata": {},
   "outputs": [
    {
     "data": {
      "text/plain": [
       "(8, 100)"
      ]
     },
     "execution_count": 338,
     "metadata": {},
     "output_type": "execute_result"
    }
   ],
   "source": [
    "mlp.coefs_[0].shape"
   ]
  },
  {
   "cell_type": "code",
   "execution_count": 339,
   "metadata": {},
   "outputs": [
    {
     "data": {
      "text/plain": [
       "(100, 1)"
      ]
     },
     "execution_count": 339,
     "metadata": {},
     "output_type": "execute_result"
    }
   ],
   "source": [
    "mlp.coefs_[1].shape"
   ]
  },
  {
   "cell_type": "code",
   "execution_count": null,
   "metadata": {},
   "outputs": [],
   "source": []
  }
 ],
 "metadata": {
  "kernelspec": {
   "display_name": "tensorflowCPU",
   "language": "python",
   "name": "tensorflowcpu"
  },
  "language_info": {
   "codemirror_mode": {
    "name": "ipython",
    "version": 2
   },
   "file_extension": ".py",
   "mimetype": "text/x-python",
   "name": "python",
   "nbconvert_exporter": "python",
   "pygments_lexer": "ipython2",
   "version": "2.7.12"
  }
 },
 "nbformat": 4,
 "nbformat_minor": 2
}
